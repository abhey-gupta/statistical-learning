{
 "cells": [
  {
   "cell_type": "code",
   "execution_count": 1,
   "id": "0dd7816b",
   "metadata": {},
   "outputs": [],
   "source": [
    "import numpy as np\n",
    "import pandas as pd\n",
    "from sklearn.preprocessing import StandardScaler\n",
    "import matplotlib.pyplot as plt"
   ]
  },
  {
   "cell_type": "markdown",
   "id": "f29d71f5",
   "metadata": {},
   "source": [
    "### Bejaia dataset - LDA"
   ]
  },
  {
   "cell_type": "code",
   "execution_count": 2,
   "id": "e8ba2060",
   "metadata": {},
   "outputs": [],
   "source": [
    "bejaia_df = pd.read_excel('BR_dataset.xlsx')\n",
    "\n",
    "features = [\n",
    "    \"Temperature\", \"RH\", \"Ws\", \"Rain\", \"FWI\",\n",
    "    \"FFMC\", \"DMC\", \"DC\", \"ISI\", \"BUI\"\n",
    "]\n",
    "\n",
    "X_bejaia = bejaia_df[features]\n",
    "y_bejaia = bejaia_df[\"Classes\"]\n",
    "y_bejaia = y_bejaia.str.strip()\n",
    "\n"
   ]
  },
  {
   "cell_type": "code",
   "execution_count": 3,
   "id": "47c654a7",
   "metadata": {},
   "outputs": [
    {
     "name": "stdout",
     "output_type": "stream",
     "text": [
      "['fire' 'not fire']\n"
     ]
    }
   ],
   "source": [
    "print(np.unique(y_bejaia))\n"
   ]
  },
  {
   "cell_type": "markdown",
   "id": "6a5bc007",
   "metadata": {},
   "source": [
    "(a) Compute class means\n"
   ]
  },
  {
   "cell_type": "code",
   "execution_count": 4,
   "id": "925f607a",
   "metadata": {},
   "outputs": [
    {
     "data": {
      "text/plain": [
       "[Temperature    32.881356\n",
       " RH             63.644068\n",
       " Ws             15.644068\n",
       " Rain            0.013559\n",
       " FWI            10.537288\n",
       " FFMC           86.579661\n",
       " DMC            19.472881\n",
       " DC             84.516949\n",
       " ISI             6.242373\n",
       " BUI            24.550847\n",
       " dtype: float64,\n",
       " Temperature    29.587302\n",
       " RH             72.031746\n",
       " Ws             16.333333\n",
       " Rain            1.619048\n",
       " FWI             0.933333\n",
       " FFMC           63.522222\n",
       " DMC             5.611111\n",
       " DC             23.795238\n",
       " ISI             1.233333\n",
       " BUI             6.880952\n",
       " dtype: float64]"
      ]
     },
     "execution_count": 4,
     "metadata": {},
     "output_type": "execute_result"
    }
   ],
   "source": [
    "mean_vectors = []\n",
    "for cl in np.unique(y_bejaia):\n",
    "    mean_vectors.append(np.mean(X_bejaia[y_bejaia == cl], axis=0))\n",
    "mean_vectors"
   ]
  },
  {
   "cell_type": "markdown",
   "id": "a8f0408d",
   "metadata": {},
   "source": [
    "(b) Calculate within-class and between-class scatter matrices\n"
   ]
  },
  {
   "cell_type": "code",
   "execution_count": 5,
   "id": "0fdeb39d",
   "metadata": {},
   "outputs": [],
   "source": [
    "n_features = X_bejaia.shape[1]\n",
    "S_W = np.zeros((n_features, n_features))\n",
    "for cl, mv in zip(np.unique(y_bejaia), mean_vectors):\n",
    "    class_scatter = np.cov(X_bejaia[y_bejaia == cl].T, bias=True)\n",
    "    S_W += class_scatter * (X_bejaia[y_bejaia == cl].shape[0] - 1)\n",
    "\n",
    "overall_mean = np.mean(X_bejaia, axis=0).to_numpy()  \n",
    "S_B = np.zeros((n_features, n_features))\n",
    "for i, mean_vec in enumerate(mean_vectors):\n",
    "    n = X_bejaia[y_bejaia == y_bejaia[i]].shape[0]\n",
    "    mean_vec_array = mean_vec.to_numpy()  \n",
    "    mean_diff = (mean_vec_array - overall_mean).reshape(n_features, 1)\n",
    "    S_B += n * mean_diff.dot(mean_diff.T)"
   ]
  },
  {
   "cell_type": "markdown",
   "id": "d6c512d9",
   "metadata": {},
   "source": [
    "(c) Solve the generalized eigenvalue problem for inv(S_W) * S_B"
   ]
  },
  {
   "cell_type": "code",
   "execution_count": 6,
   "id": "8b119ac6",
   "metadata": {},
   "outputs": [],
   "source": [
    "eigen_vals, eigen_vecs = np.linalg.eig(np.linalg.pinv(S_W).dot(S_B))\n",
    "\n",
    "eigen_pairs = [(np.abs(eigen_vals[i]), eigen_vecs[:, i]) for i in range(len(eigen_vals))]\n",
    "eigen_pairs.sort(key=lambda k: k[0], reverse=True)\n"
   ]
  },
  {
   "cell_type": "markdown",
   "id": "307e55c6",
   "metadata": {},
   "source": [
    "(d) Project data onto lower-dimensional space"
   ]
  },
  {
   "cell_type": "code",
   "execution_count": 7,
   "id": "39f70e85",
   "metadata": {},
   "outputs": [
    {
     "name": "stdout",
     "output_type": "stream",
     "text": [
      "Original shape: (122, 10)\n",
      "Transformed shape (X_lda): (122, 1)\n"
     ]
    }
   ],
   "source": [
    "# Select top (num_classes - 1) eigenvectors for the projection matrix W\n",
    "k = len(np.unique(y_bejaia)) - 1 \n",
    "\n",
    "# Stack the top k eigenvectors to form transformation matrix W\n",
    "W = np.hstack([eigen_pairs[i][1].reshape(n_features, 1) for i in range(k)])\n",
    "\n",
    "# Project the original feature set X onto the new lower-dimensional space\n",
    "X_lda = X_bejaia.dot(W)\n",
    "\n",
    "# Confirm shape\n",
    "print(\"Original shape:\", X_bejaia.shape)\n",
    "print(\"Transformed shape (X_lda):\", X_lda.shape)\n"
   ]
  },
  {
   "cell_type": "markdown",
   "id": "11ce99f3",
   "metadata": {},
   "source": [
    "(e) Visualize results"
   ]
  },
  {
   "cell_type": "code",
   "execution_count": 8,
   "id": "a0378ed1",
   "metadata": {},
   "outputs": [
    {
     "name": "stderr",
     "output_type": "stream",
     "text": [
      "c:\\Users\\sp_kr\\AppData\\Local\\Programs\\Python\\Python312\\Lib\\site-packages\\matplotlib\\cbook.py:1762: ComplexWarning: Casting complex values to real discards the imaginary part\n",
      "  return math.isfinite(val)\n",
      "c:\\Users\\sp_kr\\AppData\\Local\\Programs\\Python\\Python312\\Lib\\site-packages\\numpy\\lib\\histograms.py:841: ComplexWarning: Casting complex values to real discards the imaginary part\n",
      "  indices = f_indices.astype(np.intp)\n",
      "c:\\Users\\sp_kr\\AppData\\Local\\Programs\\Python\\Python312\\Lib\\site-packages\\matplotlib\\axes\\_axes.py:7004: ComplexWarning: Casting complex values to real discards the imaginary part\n",
      "  bins = np.array(bins, float)  # causes problems if float16\n"
     ]
    },
    {
     "data": {
      "image/png": "[encoded data removed]",
      "text/plain": [
       "<Figure size 1000x600 with 1 Axes>"
      ]
     },
     "metadata": {},
     "output_type": "display_data"
    }
   ],
   "source": [
    "\n",
    "X_lda_np = X_lda.to_numpy().flatten()  # flatten for 1D plotting\n",
    "labels_np = y_bejaia.to_numpy()\n",
    "\n",
    "colors = {'fire': 'red', 'not fire': 'green'}\n",
    "\n",
    "\n",
    "plt.figure(figsize=(10, 6))\n",
    "for label in np.unique(labels_np):\n",
    "    plt.hist(X_lda_np[labels_np == label],\n",
    "             bins=20, alpha=0.6, label=label,\n",
    "             color=colors[label])\n",
    "\n",
    "plt.title(\"LDA Projection - Histogram of 1D Projected Data\")\n",
    "plt.xlabel(\"LDA Component 1\")\n",
    "plt.ylabel(\"Frequency\")\n",
    "plt.legend()\n",
    "plt.grid(True)\n",
    "plt.show()\n"
   ]
  },
  {
   "cell_type": "markdown",
   "id": "01ec4642",
   "metadata": {},
   "source": [
    "### Sidi Bel Abbes dataset - LDA"
   ]
  },
  {
   "cell_type": "code",
   "execution_count": 9,
   "id": "764c9b8f",
   "metadata": {},
   "outputs": [],
   "source": [
    "sbar_df = pd.read_excel('SBAR_dataset.xlsx')\n",
    "\n",
    "features = [\n",
    "    \"Temperature\", \"RH\", \"Ws\", \"Rain\", \"FWI\",\n",
    "    \"FFMC\", \"DMC\", \"DC\", \"ISI\", \"BUI\"\n",
    "]\n",
    "\n",
    "X_sbar = sbar_df[features]\n",
    "y_sbar = sbar_df[\"Classes\"]\n",
    "y_sbar = y_sbar.str.strip()\n",
    "\n"
   ]
  },
  {
   "cell_type": "code",
   "execution_count": 10,
   "id": "1920509e",
   "metadata": {},
   "outputs": [],
   "source": [
    "mean_vectors = []\n",
    "for cl in np.unique(y_sbar):\n",
    "    mean_vectors.append(np.mean(X_sbar[y_sbar == cl], axis=0))"
   ]
  },
  {
   "cell_type": "code",
   "execution_count": 11,
   "id": "2702c773",
   "metadata": {},
   "outputs": [],
   "source": [
    "n_features = X_sbar.shape[1]\n",
    "S_W = np.zeros((n_features, n_features))\n",
    "for cl, mv in zip(np.unique(y_sbar), mean_vectors):\n",
    "    class_scatter = np.cov(X_sbar[y_sbar == cl].T, bias=True)\n",
    "    S_W += class_scatter * (X_sbar[y_sbar == cl].shape[0] - 1)\n",
    "\n",
    "overall_mean = np.mean(X_sbar, axis=0).to_numpy()  \n",
    "S_B = np.zeros((n_features, n_features))\n",
    "for i, mean_vec in enumerate(mean_vectors):\n",
    "    n = X_sbar[y_sbar == y_sbar[i]].shape[0]\n",
    "    mean_vec_array = mean_vec.to_numpy()  \n",
    "    mean_diff = (mean_vec_array - overall_mean).reshape(n_features, 1)\n",
    "    S_B += n * mean_diff.dot(mean_diff.T)"
   ]
  },
  {
   "cell_type": "code",
   "execution_count": 12,
   "id": "c42fff70",
   "metadata": {},
   "outputs": [],
   "source": [
    "eigen_vals, eigen_vecs = np.linalg.eig(np.linalg.pinv(S_W).dot(S_B))\n",
    "\n",
    "eigen_pairs = [(np.abs(eigen_vals[i]), eigen_vecs[:, i]) for i in range(len(eigen_vals))]\n",
    "eigen_pairs.sort(key=lambda k: k[0], reverse=True)\n"
   ]
  },
  {
   "cell_type": "code",
   "execution_count": 13,
   "id": "71ffd0d3",
   "metadata": {},
   "outputs": [
    {
     "name": "stdout",
     "output_type": "stream",
     "text": [
      "Original shape: (122, 10)\n",
      "Transformed shape (X_lda): (122, 1)\n"
     ]
    }
   ],
   "source": [
    "# Select top (num_classes - 1) eigenvectors for the projection matrix W\n",
    "k = len(np.unique(y_sbar)) - 1 \n",
    "\n",
    "# Stack the top k eigenvectors to form transformation matrix W\n",
    "W = np.hstack([eigen_pairs[i][1].reshape(n_features, 1) for i in range(k)])\n",
    "\n",
    "# Project the original feature set X onto the new lower-dimensional space\n",
    "X_lda = X_sbar.dot(W)\n",
    "\n",
    "# Confirm shape\n",
    "print(\"Original shape:\", X_sbar.shape)\n",
    "print(\"Transformed shape (X_lda):\", X_lda.shape)\n"
   ]
  },
  {
   "cell_type": "code",
   "execution_count": 14,
   "id": "2227a08d",
   "metadata": {},
   "outputs": [
    {
     "name": "stderr",
     "output_type": "stream",
     "text": [
      "c:\\Users\\sp_kr\\AppData\\Local\\Programs\\Python\\Python312\\Lib\\site-packages\\matplotlib\\cbook.py:1762: ComplexWarning: Casting complex values to real discards the imaginary part\n",
      "  return math.isfinite(val)\n",
      "c:\\Users\\sp_kr\\AppData\\Local\\Programs\\Python\\Python312\\Lib\\site-packages\\numpy\\lib\\histograms.py:841: ComplexWarning: Casting complex values to real discards the imaginary part\n",
      "  indices = f_indices.astype(np.intp)\n",
      "c:\\Users\\sp_kr\\AppData\\Local\\Programs\\Python\\Python312\\Lib\\site-packages\\matplotlib\\axes\\_axes.py:7004: ComplexWarning: Casting complex values to real discards the imaginary part\n",
      "  bins = np.array(bins, float)  # causes problems if float16\n"
     ]
    },
    {
     "data": {
      "image/png": "[encoded data removed]",
      "text/plain": [
       "<Figure size 1000x600 with 1 Axes>"
      ]
     },
     "metadata": {},
     "output_type": "display_data"
    }
   ],
   "source": [
    "\n",
    "X_lda_np = X_lda.to_numpy().flatten()  # flatten for 1D plotting\n",
    "labels_np = y_bejaia.to_numpy()\n",
    "\n",
    "colors = {'fire': 'red', 'not fire': 'green'}\n",
    "\n",
    "\n",
    "plt.figure(figsize=(10, 6))\n",
    "for label in np.unique(labels_np):\n",
    "    plt.hist(X_lda_np[labels_np == label],\n",
    "             bins=20, alpha=0.6, label=label,\n",
    "             color=colors[label])\n",
    "\n",
    "plt.title(\"LDA Projection - Histogram of 1D Projected Data\")\n",
    "plt.xlabel(\"LDA Component 1\")\n",
    "plt.ylabel(\"Frequency\")\n",
    "plt.legend()\n",
    "plt.grid(True)\n",
    "plt.show()\n"
   ]
  }
 ],
 "metadata": {
  "kernelspec": {
   "display_name": "Python 3",
   "language": "python",
   "name": "python3"
  },
  "language_info": {
   "codemirror_mode": {
    "name": "ipython",
    "version": 3
   },
   "file_extension": ".py",
   "mimetype": "text/x-python",
   "name": "python",
   "nbconvert_exporter": "python",
   "pygments_lexer": "ipython3",
   "version": "3.12.4"
  }
 },
 "nbformat": 4,
 "nbformat_minor": 5
}
